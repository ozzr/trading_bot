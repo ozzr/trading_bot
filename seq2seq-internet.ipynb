{
 "cells": [
  {
   "cell_type": "code",
   "execution_count": null,
   "metadata": {},
   "outputs": [],
   "source": [
    "#This is an attempt to forecast stck prices using an encoder-decoder architecture"
   ]
  },
  {
   "cell_type": "code",
   "execution_count": 1,
   "metadata": {},
   "outputs": [
    {
     "name": "stdout",
     "output_type": "stream",
     "text": [
      "WARNING:tensorflow:From d:\\Playground\\bots\\trading\\pocket-option-bot\\.venv\\Lib\\site-packages\\keras\\src\\losses.py:2976: The name tf.losses.sparse_softmax_cross_entropy is deprecated. Please use tf.compat.v1.losses.sparse_softmax_cross_entropy instead.\n",
      "\n"
     ]
    }
   ],
   "source": [
    "#Import all the necessary libraries\n",
    "\n",
    "import numpy as np\n",
    "import pandas as pd\n",
    "import matplotlib.pyplot as plt\n",
    "\n",
    "import tensorflow as tf\n",
    "import keras\n",
    "from trading_tools import data_frame\n",
    "from tqdm import tqdm\n",
    "import time"
   ]
  },
  {
   "cell_type": "code",
   "execution_count": 2,
   "metadata": {
    "scrolled": true
   },
   "outputs": [],
   "source": [
    "ASSET = \"AUDCAD_otc\" \n",
    "# ASSET = \"EURUSD_otc\" \n",
    "df = data_frame.load_csv(f\"actives/ACTIVO-{ASSET}-0005s.csv\")"
   ]
  },
  {
   "cell_type": "code",
   "execution_count": 3,
   "metadata": {},
   "outputs": [],
   "source": [
    "from sklearn.preprocessing import MinMaxScaler"
   ]
  },
  {
   "cell_type": "code",
   "execution_count": 4,
   "metadata": {},
   "outputs": [],
   "source": [
    "scaler=MinMaxScaler(feature_range=(1,10))"
   ]
  },
  {
   "cell_type": "code",
   "execution_count": 5,
   "metadata": {},
   "outputs": [],
   "source": [
    "scaled_data=scaler.fit_transform(df)"
   ]
  },
  {
   "cell_type": "code",
   "execution_count": 6,
   "metadata": {},
   "outputs": [
    {
     "data": {
      "text/plain": [
       "(909722, 4)"
      ]
     },
     "execution_count": 6,
     "metadata": {},
     "output_type": "execute_result"
    }
   ],
   "source": [
    "scaled_data.shape"
   ]
  },
  {
   "cell_type": "code",
   "execution_count": 7,
   "metadata": {},
   "outputs": [
    {
     "data": {
      "text/html": [
       "<div>\n",
       "<style scoped>\n",
       "    .dataframe tbody tr th:only-of-type {\n",
       "        vertical-align: middle;\n",
       "    }\n",
       "\n",
       "    .dataframe tbody tr th {\n",
       "        vertical-align: top;\n",
       "    }\n",
       "\n",
       "    .dataframe thead th {\n",
       "        text-align: right;\n",
       "    }\n",
       "</style>\n",
       "<table border=\"1\" class=\"dataframe\">\n",
       "  <thead>\n",
       "    <tr style=\"text-align: right;\">\n",
       "      <th></th>\n",
       "      <th>open</th>\n",
       "      <th>high</th>\n",
       "      <th>low</th>\n",
       "      <th>close</th>\n",
       "    </tr>\n",
       "    <tr>\n",
       "      <th>time</th>\n",
       "      <th></th>\n",
       "      <th></th>\n",
       "      <th></th>\n",
       "      <th></th>\n",
       "    </tr>\n",
       "  </thead>\n",
       "  <tbody>\n",
       "    <tr>\n",
       "      <th>2024-10-21 01:03:10</th>\n",
       "      <td>8.027220</td>\n",
       "      <td>8.025903</td>\n",
       "      <td>8.030172</td>\n",
       "      <td>8.028701</td>\n",
       "    </tr>\n",
       "    <tr>\n",
       "      <th>2024-10-21 01:03:15</th>\n",
       "      <td>8.026557</td>\n",
       "      <td>8.026234</td>\n",
       "      <td>8.026194</td>\n",
       "      <td>8.028369</td>\n",
       "    </tr>\n",
       "    <tr>\n",
       "      <th>2024-10-21 01:03:20</th>\n",
       "      <td>8.025231</td>\n",
       "      <td>8.023913</td>\n",
       "      <td>8.026194</td>\n",
       "      <td>8.027043</td>\n",
       "    </tr>\n",
       "    <tr>\n",
       "      <th>2024-10-21 01:03:25</th>\n",
       "      <td>8.023905</td>\n",
       "      <td>8.029550</td>\n",
       "      <td>8.028515</td>\n",
       "      <td>8.032017</td>\n",
       "    </tr>\n",
       "    <tr>\n",
       "      <th>2024-10-21 01:03:30</th>\n",
       "      <td>8.029541</td>\n",
       "      <td>8.034856</td>\n",
       "      <td>8.034151</td>\n",
       "      <td>8.038649</td>\n",
       "    </tr>\n",
       "    <tr>\n",
       "      <th>...</th>\n",
       "      <td>...</td>\n",
       "      <td>...</td>\n",
       "      <td>...</td>\n",
       "      <td>...</td>\n",
       "    </tr>\n",
       "    <tr>\n",
       "      <th>2024-12-12 16:36:05</th>\n",
       "      <td>1.750856</td>\n",
       "      <td>1.748452</td>\n",
       "      <td>1.752653</td>\n",
       "      <td>1.750718</td>\n",
       "    </tr>\n",
       "    <tr>\n",
       "      <th>2024-12-12 16:36:10</th>\n",
       "      <td>1.748536</td>\n",
       "      <td>1.745136</td>\n",
       "      <td>1.745690</td>\n",
       "      <td>1.746408</td>\n",
       "    </tr>\n",
       "    <tr>\n",
       "      <th>2024-12-12 16:36:15</th>\n",
       "      <td>1.744889</td>\n",
       "      <td>1.748121</td>\n",
       "      <td>1.748342</td>\n",
       "      <td>1.753040</td>\n",
       "    </tr>\n",
       "    <tr>\n",
       "      <th>2024-12-12 16:36:20</th>\n",
       "      <td>1.750525</td>\n",
       "      <td>1.755085</td>\n",
       "      <td>1.753979</td>\n",
       "      <td>1.758677</td>\n",
       "    </tr>\n",
       "    <tr>\n",
       "      <th>2024-12-12 16:36:25</th>\n",
       "      <td>1.752845</td>\n",
       "      <td>1.749447</td>\n",
       "      <td>1.752653</td>\n",
       "      <td>1.750718</td>\n",
       "    </tr>\n",
       "  </tbody>\n",
       "</table>\n",
       "<p>909722 rows × 4 columns</p>\n",
       "</div>"
      ],
      "text/plain": [
       "                         open      high       low     close\n",
       "time                                                       \n",
       "2024-10-21 01:03:10  8.027220  8.025903  8.030172  8.028701\n",
       "2024-10-21 01:03:15  8.026557  8.026234  8.026194  8.028369\n",
       "2024-10-21 01:03:20  8.025231  8.023913  8.026194  8.027043\n",
       "2024-10-21 01:03:25  8.023905  8.029550  8.028515  8.032017\n",
       "2024-10-21 01:03:30  8.029541  8.034856  8.034151  8.038649\n",
       "...                       ...       ...       ...       ...\n",
       "2024-12-12 16:36:05  1.750856  1.748452  1.752653  1.750718\n",
       "2024-12-12 16:36:10  1.748536  1.745136  1.745690  1.746408\n",
       "2024-12-12 16:36:15  1.744889  1.748121  1.748342  1.753040\n",
       "2024-12-12 16:36:20  1.750525  1.755085  1.753979  1.758677\n",
       "2024-12-12 16:36:25  1.752845  1.749447  1.752653  1.750718\n",
       "\n",
       "[909722 rows x 4 columns]"
      ]
     },
     "execution_count": 7,
     "metadata": {},
     "output_type": "execute_result"
    }
   ],
   "source": [
    "scaled_df=pd.DataFrame(scaled_data, columns=df.columns, index=df.index)\n",
    "scaled_df"
   ]
  },
  {
   "cell_type": "code",
   "execution_count": 30,
   "metadata": {},
   "outputs": [],
   "source": [
    "n = len(scaled_df)\n",
    "scaled_df[\"target\"] = scaled_df['close'].shift(-6)\n",
    "scaled_df.dropna(inplace=True)\n",
    "train_df = scaled_df[0         :int(n*0.7)]\n",
    "val_df   = scaled_df[int(n*0.7):int(n*0.9)]\n",
    "test_df  = scaled_df[int(n*0.9):          ]"
   ]
  },
  {
   "cell_type": "code",
   "execution_count": 12,
   "metadata": {},
   "outputs": [],
   "source": [
    "#This is a function from the book \"Advances in Financial Machine Learning\" by Marco Lopes De Prado\n",
    "#It checks for how the data's underlying distribution and it's mean and variance changes.\n",
    "#Since most ML methods assume stationarity in data, this is a crucial check\n",
    "#Implementing the Dickey-Fuller test here.\n",
    "\n",
    "from statsmodels.tsa.stattools import adfuller\n",
    "from statsmodels.tsa.arima_model import ARIMA\n",
    "\n",
    "def test_stationarity(x):\n",
    "\n",
    "\n",
    "    #Determing rolling statistics\n",
    "    rolmean = x.rolling(window=22,center=False).mean()\n",
    "\n",
    "    rolstd = x.rolling(window=12,center=False).std()\n",
    "    \n",
    "    #Plot rolling statistics:\n",
    "    orig = plt.plot(x, color='blue',label='Original')\n",
    "    mean = plt.plot(rolmean, color='red', label='Rolling Mean')\n",
    "    std = plt.plot(rolstd, color='black', label = 'Rolling Std')\n",
    "    plt.legend(loc='best')\n",
    "    plt.title('Rolling Mean & Standard Deviation')\n",
    "    plt.show(block=False)\n",
    "    \n",
    "    #Perform Dickey Fuller test    \n",
    "    result=adfuller(x)\n",
    "    print('ADF Stastistic: %f'%result[0])\n",
    "    print('p-value: %f'%result[1])\n",
    "    pvalue=result[1]\n",
    "    for key,value in result[4].items():\n",
    "        \n",
    "        if result[0]>value:\n",
    "            print(\"The graph is non stationery\")\n",
    "            break\n",
    "        else:\n",
    "            print(\"The graph is stationery\")\n",
    "            break;\n",
    "    print('Critical values:')\n",
    "    for key,value in result[4].items():\n",
    "        print('\\t%s: %.3f ' % (key, value))"
   ]
  },
  {
   "cell_type": "code",
   "execution_count": 13,
   "metadata": {},
   "outputs": [
    {
     "data": {
      "image/png": "[encoded data removed]",
      "text/plain": [
       "<Figure size 640x480 with 1 Axes>"
      ]
     },
     "metadata": {},
     "output_type": "display_data"
    },
    {
     "name": "stdout",
     "output_type": "stream",
     "text": [
      "ADF Stastistic: -1.572233\n",
      "p-value: 0.497525\n",
      "The graph is non stationery\n",
      "Critical values:\n",
      "\t1%: -3.437 \n",
      "\t5%: -2.864 \n",
      "\t10%: -2.568 \n"
     ]
    }
   ],
   "source": [
    "test_stationarity(scaled_df.iloc[-1000:][\"close\"])"
   ]
  },
  {
   "cell_type": "code",
   "execution_count": 101,
   "metadata": {},
   "outputs": [],
   "source": [
    "class WindowGenerator():\n",
    "    def __init__(self, input_width, label_columns, features_columns,\n",
    "                 train_df=train_df, val_df=val_df, test_df=test_df,\n",
    "                  batch_size=32):\n",
    "        # Almacenar los datos crudos\n",
    "        self.train_df = train_df\n",
    "        self.val_df = val_df\n",
    "        self.test_df = test_df\n",
    "\n",
    "        self.column_indices = {name: i for i, name in enumerate(train_df.columns)}\n",
    "        \n",
    "        self.label_columns = label_columns     \n",
    "           \n",
    "        self.features_columns = features_columns\n",
    "        \n",
    "\n",
    "        # Calcular los parámetros de la ventana\n",
    "        self.input_width = input_width\n",
    "\n",
    "        self.total_window_size = input_width \n",
    "\n",
    "        self.input_slice = slice(0, input_width)\n",
    "        self.input_indices = np.arange(self.total_window_size)[self.input_slice]\n",
    "\n",
    "        self.batch_size = batch_size\n",
    "        self.normalize_inputs = False\n",
    "\n",
    "    def __repr__(self):\n",
    "        return '\\n'.join([\n",
    "            f'Total window size: {self.total_window_size}',\n",
    "            f'Input indices: {min(self.input_indices)} - {max(self.input_indices)}',\n",
    "            f'Label column name(s): {self.label_columns}',\n",
    "            f'Feature column name(s): {self.features_columns}'\n",
    "        ])\n",
    "    \n",
    "    @tf.function\n",
    "    def normalize(self, inputs):\n",
    "        def normalize_sequence(sequence):\n",
    "            rolling_mean = tf.reduce_mean(sequence, axis=0, keepdims=True)\n",
    "            return (sequence - rolling_mean) / rolling_mean\n",
    "\n",
    "        return tf.map_fn(normalize_sequence, inputs, fn_output_signature=tf.float32)\n",
    "\n",
    "    def split_window(self, features):\n",
    "        data = features[:, self.input_slice, :]\n",
    "        inputs = tf.stack([data[:, :, self.column_indices[name]] for name in self.features_columns], axis=-1)\n",
    "        labels = tf.stack([data[:, -1, self.column_indices[name]] for name in self.label_columns], axis=-1)\n",
    "        # decoder_input = tf.stack([data[:, :, self.column_indices[name]] * 0 for name in self.features_columns], axis=-1)\n",
    "        # if self.normalize_inputs:\n",
    "        #     inputs = self.normalize(tf.cast(inputs, tf.float32))  # Convertir inputs a float32\n",
    "\n",
    "        inputs.set_shape([None, self.input_width, len(self.features_columns)])\n",
    "        # decoder_input.set_shape([None, self.input_width, len(self.features_columns)])\n",
    "        labels.set_shape([None, len(self.label_columns)])\n",
    "        # decoder_input.set_shape([self.input_width, 1])\n",
    "\n",
    "        # decoder_input = np.zeros((inputs.shape[0], inputs.shape[1], 1))\n",
    "        # print(inputs.shape)\n",
    "        # decoder_input = np.zeros((self.batch_size, inputs.shape[1], 1))\n",
    "        \n",
    "        # return [inputs, decoder_input], labels\n",
    "        return inputs, labels\n",
    "\n",
    "    def make_dataset(self, data):\n",
    "        data = data.to_numpy()\n",
    "        ds = keras.preprocessing.timeseries_dataset_from_array(\n",
    "            data=data,\n",
    "            targets=None,\n",
    "            sequence_length=self.total_window_size,\n",
    "            sequence_stride=1,\n",
    "            shuffle=False,\n",
    "            batch_size=self.batch_size\n",
    "        )\n",
    "        ds = ds.map(self.split_window)\n",
    "        return ds\n",
    "\n",
    "    @property\n",
    "    def train(self):\n",
    "        return self.make_dataset(self.train_df)\n",
    "\n",
    "    @property\n",
    "    def val(self):\n",
    "        return self.make_dataset(self.val_df)\n",
    "\n",
    "    @property\n",
    "    def test(self):\n",
    "        return self.make_dataset(self.test_df)\n",
    "\n",
    "    @property\n",
    "    def example(self):\n",
    "        result = getattr(self, '_example', None)\n",
    "        if result is None:\n",
    "            # No se encontró un lote de ejemplo, así que obtén uno del dataset de entrenamiento\n",
    "            result = next(iter(self.train))\n",
    "            # Y guárdalo en caché para la próxima vez\n",
    "            self._example = result\n",
    "        return result\n"
   ]
  },
  {
   "cell_type": "code",
   "execution_count": 15,
   "metadata": {},
   "outputs": [
    {
     "data": {
      "text/plain": [
       "False"
      ]
     },
     "execution_count": 15,
     "metadata": {},
     "output_type": "execute_result"
    }
   ],
   "source": [
    "scaled_df.isnull().values.any()"
   ]
  },
  {
   "cell_type": "code",
   "execution_count": null,
   "metadata": {},
   "outputs": [],
   "source": [
    "#Finally we get to the model architecture part.\n",
    "layers=[256,512,512,256]\n",
    "learning_rate=0.01\n",
    "decay=0\n",
    "optimiser = keras.optimizers.legacy.Adam(learning_rate=learning_rate, decay=decay) \n",
    "num_input_features=4\n",
    "num_output_features=1\n",
    "\n",
    "loss=\"mse\"\n",
    "lambda_regulariser = 0.000001\n",
    "regulariser=keras.regularizers.l2(lambda_regulariser)\n",
    "#batch_size=104\n",
    "steps_per_epoch=2\n",
    "epochs=5000\n",
    "\n",
    "input_sequence_length=5\n",
    "target_sequence_length=3\n",
    "num_steps_to_predict=3"
   ]
  },
  {
   "cell_type": "code",
   "execution_count": 33,
   "metadata": {},
   "outputs": [],
   "source": [
    "encoder_inputs = keras.layers.Input(shape=(None, num_input_features))\n",
    "#activation1=keras.layers.LeakyReLU()\n",
    "\n",
    "# Create a list of RNN Cells, these are then concatenated into a single layer\n",
    "# with the RNN layer.\n",
    "encoder_cells = []\n",
    "for hidden_neurons in layers:\n",
    "    encoder_cells.append(keras.layers.LSTMCell(hidden_neurons,\n",
    "                                               dropout=0.25,\n",
    "                                               recurrent_dropout=0.5,\n",
    "                                               activation='relu',\n",
    "                                              kernel_regularizer=regulariser,\n",
    "                                              recurrent_regularizer=regulariser,\n",
    "                                              bias_regularizer=regulariser))\n",
    "    #encoder_cells.append(keras.layers.LeakyReLU(alpha=0.1))\n",
    "\n",
    "encoder = keras.layers.RNN(encoder_cells, return_state=True)\n",
    "\n",
    "encoder_outputs_and_states = encoder(encoder_inputs)\n",
    "\n",
    "# Discard encoder outputs and only keep the states.\n",
    "# The outputs are of no interest to us, the encoder's\n",
    "# job is to create a state describing the input sequence.\n",
    "encoder_states = encoder_outputs_and_states[1:]"
   ]
  },
  {
   "cell_type": "code",
   "execution_count": 35,
   "metadata": {},
   "outputs": [],
   "source": [
    "model2= keras.models.Model(inputs=[encoder_inputs, decoder_in], outputs=decoder_outputs)\n",
    "model2.compile(optimizer=optimiser, loss=loss)\n"
   ]
  },
  {
   "cell_type": "code",
   "execution_count": 102,
   "metadata": {},
   "outputs": [
    {
     "data": {
      "text/plain": [
       "Total window size: 15\n",
       "Input indices: 0 - 14\n",
       "Label column name(s): ['target']\n",
       "Feature column name(s): ['open', 'high', 'low', 'close']"
      ]
     },
     "execution_count": 102,
     "metadata": {},
     "output_type": "execute_result"
    }
   ],
   "source": [
    "label_columns=[\"target\"]\n",
    "# features_columns=['open', \"close\"]\n",
    "features_columns= [col for col in df.columns if col not in label_columns]\n",
    "num_labels = len(label_columns)\n",
    "num_features = len(features_columns)\n",
    "input_width = 15\n",
    "\n",
    "window = WindowGenerator( input_width=input_width, label_columns= label_columns , features_columns=features_columns, batch_size=2048)\n",
    "\n",
    "window"
   ]
  },
  {
   "cell_type": "code",
   "execution_count": 103,
   "metadata": {},
   "outputs": [
    {
     "data": {
      "text/plain": [
       "<tf.Tensor: shape=(2048, 15, 4), dtype=float64, numpy=\n",
       "array([[[8.02722016, 8.02590273, 8.03017241, 8.02870091],\n",
       "        [8.02655715, 8.02623434, 8.02619363, 8.02836932],\n",
       "        [8.02523113, 8.02391304, 8.02619363, 8.02704296],\n",
       "        ...,\n",
       "        [8.02688865, 8.03551953, 8.03149867, 8.03997495],\n",
       "        [8.03683377, 8.03817244, 8.04111406, 8.04163289],\n",
       "        [8.03716527, 8.04115696, 8.04144562, 8.04561197]],\n",
       "\n",
       "       [[8.02655715, 8.02623434, 8.02619363, 8.02836932],\n",
       "        [8.02523113, 8.02391304, 8.02619363, 8.02704296],\n",
       "        [8.02390512, 8.02955048, 8.02851459, 8.0320168 ],\n",
       "        ...,\n",
       "        [8.03683377, 8.03817244, 8.04111406, 8.04163289],\n",
       "        [8.03716527, 8.04115696, 8.04144562, 8.04561197],\n",
       "        [8.04048031, 8.04314665, 8.04509284, 8.04428561]],\n",
       "\n",
       "       [[8.02523113, 8.02391304, 8.02619363, 8.02704296],\n",
       "        [8.02390512, 8.02955048, 8.02851459, 8.0320168 ],\n",
       "        [8.02954068, 8.0348563 , 8.03415119, 8.03864859],\n",
       "        ...,\n",
       "        [8.03716527, 8.04115696, 8.04144562, 8.04561197],\n",
       "        [8.04048031, 8.04314665, 8.04509284, 8.04428561],\n",
       "        [8.04114332, 8.04016212, 8.04045093, 8.04295925]],\n",
       "\n",
       "       ...,\n",
       "\n",
       "       [[8.33684482, 8.34392041, 8.34151194, 8.34669516],\n",
       "        [8.34181738, 8.34159912, 8.34217507, 8.34205291],\n",
       "        [8.33750783, 8.33761975, 8.34018568, 8.33873701],\n",
       "        ...,\n",
       "        [8.3607131 , 8.36249079, 8.36405836, 8.36261145],\n",
       "        [8.35839257, 8.37343405, 8.36306366, 8.37786456],\n",
       "        [8.37264724, 8.37873987, 8.37665782, 8.38316999]],\n",
       "\n",
       "       [[8.34181738, 8.34159912, 8.34217507, 8.34205291],\n",
       "        [8.33750783, 8.33761975, 8.34018568, 8.33873701],\n",
       "        [8.3355188 , 8.3389462 , 8.34018568, 8.34006337],\n",
       "        ...,\n",
       "        [8.35839257, 8.37343405, 8.36306366, 8.37786456],\n",
       "        [8.37264724, 8.37873987, 8.37665782, 8.38316999],\n",
       "        [8.37994033, 8.39498895, 8.38461538, 8.39610198]],\n",
       "\n",
       "       [[8.33750783, 8.33761975, 8.34018568, 8.33873701],\n",
       "        [8.3355188 , 8.3389462 , 8.34018568, 8.34006337],\n",
       "        [8.33154076, 8.34425203, 8.33587533, 8.3486847 ],\n",
       "        ...,\n",
       "        [8.37264724, 8.37873987, 8.37665782, 8.38316999],\n",
       "        [8.37994033, 8.39498895, 8.38461538, 8.39610198],\n",
       "        [8.394195  , 8.39299926, 8.39356764, 8.39643357]]])>"
      ]
     },
     "execution_count": 103,
     "metadata": {},
     "output_type": "execute_result"
    }
   ],
   "source": [
    "window.example[0]"
   ]
  },
  {
   "cell_type": "code",
   "execution_count": 97,
   "metadata": {},
   "outputs": [],
   "source": [
    "\n",
    "\n",
    "# Definir los parámetros del modelo\n",
    "layers = [256, 512, 512, 256]\n",
    "learning_rate = 0.01\n",
    "decay = 0\n",
    "optimiser = keras.optimizers.legacy.Adam(learning_rate=learning_rate, decay=decay)\n",
    "num_input_features = 4\n",
    "num_output_features = 1\n",
    "loss = \"mse\"\n",
    "lambda_regulariser = 0.000001\n",
    "regulariser = keras.regularizers.l2(lambda_regulariser)\n",
    "steps_per_epoch = 2\n",
    "epochs = 5000\n",
    "\n",
    "# Crear una capa personalizada para dividir la entrada\n",
    "class SplitInputLayer(keras.layers.Layer):\n",
    "    def __init__(self, num_output_features, **kwargs):\n",
    "        super(SplitInputLayer, self).__init__(**kwargs)\n",
    "        self.num_output_features = num_output_features\n",
    "\n",
    "    def call(self, inputs):\n",
    "        encoder_input = inputs[:, :, :self.num_output_features]\n",
    "        decoder_input = tf.zeros_like(encoder_input)\n",
    "        return [encoder_input, decoder_input]\n",
    "\n",
    "# Crear las capas del encoder\n",
    "encoder_inputs = keras.layers.Input(shape=(15, num_input_features))\n",
    "split_layer = SplitInputLayer(num_output_features)(encoder_inputs)\n",
    "encoder_cells = [keras.layers.LSTMCell(hidden_neurons, \n",
    "                                       dropout=0.25, \n",
    "                                       recurrent_dropout=0.5, \n",
    "                                       activation='relu', \n",
    "                                       kernel_regularizer=regulariser, \n",
    "                                       recurrent_regularizer=regulariser, \n",
    "                                       bias_regularizer=regulariser) \n",
    "                 for hidden_neurons in layers]\n",
    "encoder = keras.layers.RNN(encoder_cells, return_state=True)\n",
    "encoder_outputs_and_states = encoder(split_layer[0])\n",
    "encoder_states = encoder_outputs_and_states[1:]  # Solo conservamos los estados\n",
    "\n",
    "# Crear las capas del decoder\n",
    "decoder_in = split_layer[1]\n",
    "decoder_cells = [keras.layers.LSTMCell(hidden_neurons, \n",
    "                                       dropout=0.25, \n",
    "                                       recurrent_dropout=0.5, \n",
    "                                       activation='relu', \n",
    "                                       kernel_regularizer=regulariser, \n",
    "                                       recurrent_regularizer=regulariser, \n",
    "                                       bias_regularizer=regulariser) \n",
    "                 for hidden_neurons in layers]\n",
    "decoder = keras.layers.RNN(decoder_cells, return_sequences=True, return_state=True)\n",
    "decoder_outputs_and_states = decoder(decoder_in, initial_state=encoder_states)\n",
    "decoder_outputs = decoder_outputs_and_states[0]\n",
    "decoder_dense = keras.layers.Dense(num_output_features, \n",
    "                                   activation='linear', \n",
    "                                   kernel_regularizer=regulariser, \n",
    "                                   bias_regularizer=regulariser)\n",
    "decoder_outputs = decoder_dense(decoder_outputs)\n",
    "\n",
    "# Construir el modelo\n",
    "model2 = keras.models.Model(inputs=encoder_inputs, outputs=decoder_outputs)\n",
    "model2.compile(optimizer=optimiser, loss=loss)\n",
    "\n",
    "# Función para preparar los datos\n",
    "# def prepare_data(window):\n",
    "#     encoder_input_data = []\n",
    "#     decoder_input_data = []\n",
    "#     decoder_target_data = []\n",
    "\n",
    "#     for inputs, labels in window.train:\n",
    "#         encoder_input_data.append(inputs)\n",
    "#         decoder_input_data.append(inputs[:, :, :num_output_features])  # Decoder input as 0s like in your example\n",
    "#         decoder_target_data.append(labels)\n",
    "\n",
    "#     return (tf.concat(encoder_input_data, axis=0), \n",
    "#             tf.concat(decoder_input_data, axis=0), \n",
    "#             tf.concat(decoder_target_data, axis=0))\n",
    "\n",
    "# # Preparar los datos\n",
    "# encoder_input_data, _, decoder_target_data = prepare_data(window)\n",
    "\n",
    "# # Entrenar el modelo\n",
    "# history = model2.fit(encoder_input_data, decoder_target_data,\n",
    "#                      steps_per_epoch=steps_per_epoch,\n",
    "#                      epochs=epochs)\n",
    "\n",
    "# # Evaluar el modelo\n",
    "# loss = model2.evaluate(encoder_input_data, decoder_target_data)\n",
    "# print(f'Test loss: {loss}')\n",
    "\n",
    "# # Realizar predicciones\n",
    "# for inputs, labels in window.test.take(1):\n",
    "#     predictions = model2.predict(inputs)\n",
    "#     print(f'Predictions: {predictions}')\n",
    "#     print(f'Labels: {labels.numpy()}')\n"
   ]
  },
  {
   "cell_type": "code",
   "execution_count": 98,
   "metadata": {},
   "outputs": [
    {
     "name": "stdout",
     "output_type": "stream",
     "text": [
      "Epoch 1/10\n"
     ]
    },
    {
     "ename": "ValueError",
     "evalue": "in user code:\n\n    File \"d:\\Playground\\bots\\trading\\pocket-option-bot\\.venv\\Lib\\site-packages\\keras\\src\\engine\\training.py\", line 1401, in train_function  *\n        return step_function(self, iterator)\n    File \"d:\\Playground\\bots\\trading\\pocket-option-bot\\.venv\\Lib\\site-packages\\keras\\src\\engine\\training.py\", line 1384, in step_function  **\n        outputs = model.distribute_strategy.run(run_step, args=(data,))\n    File \"d:\\Playground\\bots\\trading\\pocket-option-bot\\.venv\\Lib\\site-packages\\keras\\src\\engine\\training.py\", line 1373, in run_step  **\n        outputs = model.train_step(data)\n    File \"d:\\Playground\\bots\\trading\\pocket-option-bot\\.venv\\Lib\\site-packages\\keras\\src\\engine\\training.py\", line 1150, in train_step\n        y_pred = self(x, training=True)\n    File \"d:\\Playground\\bots\\trading\\pocket-option-bot\\.venv\\Lib\\site-packages\\keras\\src\\utils\\traceback_utils.py\", line 70, in error_handler\n        raise e.with_traceback(filtered_tb) from None\n    File \"d:\\Playground\\bots\\trading\\pocket-option-bot\\.venv\\Lib\\site-packages\\keras\\src\\engine\\input_spec.py\", line 298, in assert_input_compatibility\n        raise ValueError(\n\n    ValueError: Input 0 of layer \"model_8\" is incompatible with the layer: expected shape=(None, 15, 4), found shape=(2, None, 15, 4)\n",
     "output_type": "error",
     "traceback": [
      "\u001b[1;31m---------------------------------------------------------------------------\u001b[0m",
      "\u001b[1;31mValueError\u001b[0m                                Traceback (most recent call last)",
      "Cell \u001b[1;32mIn[98], line 12\u001b[0m\n\u001b[0;32m      9\u001b[0m os\u001b[38;5;241m.\u001b[39mmakedirs(\u001b[38;5;124m'\u001b[39m\u001b[38;5;124m.logs\u001b[39m\u001b[38;5;124m'\u001b[39m, exist_ok\u001b[38;5;241m=\u001b[39m\u001b[38;5;28;01mTrue\u001b[39;00m)\n\u001b[0;32m     10\u001b[0m utils\u001b[38;5;241m.\u001b[39mclear_directory(\u001b[38;5;124m'\u001b[39m\u001b[38;5;124m.logs\u001b[39m\u001b[38;5;124m'\u001b[39m)\n\u001b[1;32m---> 12\u001b[0m history \u001b[38;5;241m=\u001b[39m \u001b[43mmodel2\u001b[49m\u001b[38;5;241;43m.\u001b[39;49m\u001b[43mfit\u001b[49m\u001b[43m(\u001b[49m\u001b[43mwindow\u001b[49m\u001b[38;5;241;43m.\u001b[39;49m\u001b[43mtrain\u001b[49m\u001b[43m,\u001b[49m\u001b[43m \u001b[49m\u001b[43mepochs\u001b[49m\u001b[38;5;241;43m=\u001b[39;49m\u001b[38;5;241;43m10\u001b[39;49m\u001b[43m,\u001b[49m\n\u001b[0;32m     13\u001b[0m \u001b[43m                        \u001b[49m\u001b[43mvalidation_data\u001b[49m\u001b[38;5;241;43m=\u001b[39;49m\u001b[43mwindow\u001b[49m\u001b[38;5;241;43m.\u001b[39;49m\u001b[43mval\u001b[49m\u001b[43m,\u001b[49m\n\u001b[0;32m     14\u001b[0m \u001b[43m                        \u001b[49m\u001b[43mcallbacks\u001b[49m\u001b[38;5;241;43m=\u001b[39;49m\u001b[43m[\u001b[49m\n\u001b[0;32m     15\u001b[0m \u001b[43m                            \u001b[49m\u001b[43mtf\u001b[49m\u001b[38;5;241;43m.\u001b[39;49m\u001b[43mkeras\u001b[49m\u001b[38;5;241;43m.\u001b[39;49m\u001b[43mcallbacks\u001b[49m\u001b[38;5;241;43m.\u001b[39;49m\u001b[43mEarlyStopping\u001b[49m\u001b[43m(\u001b[49m\u001b[43mmonitor\u001b[49m\u001b[38;5;241;43m=\u001b[39;49m\u001b[38;5;124;43m'\u001b[39;49m\u001b[38;5;124;43mval_loss\u001b[39;49m\u001b[38;5;124;43m'\u001b[39;49m\u001b[43m,\u001b[49m\u001b[43m \u001b[49m\u001b[43mpatience\u001b[49m\u001b[38;5;241;43m=\u001b[39;49m\u001b[38;5;241;43m2\u001b[39;49m\u001b[43m,\u001b[49m\u001b[43m \u001b[49m\u001b[43mrestore_best_weights\u001b[49m\u001b[38;5;241;43m=\u001b[39;49m\u001b[38;5;28;43;01mTrue\u001b[39;49;00m\u001b[43m,\u001b[49m\u001b[43m \u001b[49m\u001b[43mmode\u001b[49m\u001b[38;5;241;43m=\u001b[39;49m\u001b[38;5;124;43m'\u001b[39;49m\u001b[38;5;124;43mmin\u001b[39;49m\u001b[38;5;124;43m'\u001b[39;49m\u001b[43m)\u001b[49m\u001b[43m,\u001b[49m\n\u001b[0;32m     16\u001b[0m \u001b[43m                            \u001b[49m\u001b[43mtf\u001b[49m\u001b[38;5;241;43m.\u001b[39;49m\u001b[43mkeras\u001b[49m\u001b[38;5;241;43m.\u001b[39;49m\u001b[43mcallbacks\u001b[49m\u001b[38;5;241;43m.\u001b[39;49m\u001b[43mModelCheckpoint\u001b[49m\u001b[43m(\u001b[49m\u001b[43mfilepath\u001b[49m\u001b[38;5;241;43m=\u001b[39;49m\u001b[38;5;124;43mf\u001b[39;49m\u001b[38;5;124;43m\"\u001b[39;49m\u001b[38;5;124;43mmodels/\u001b[39;49m\u001b[38;5;132;43;01m{\u001b[39;49;00m\u001b[43mASSET\u001b[49m\u001b[38;5;132;43;01m}\u001b[39;49;00m\u001b[38;5;124;43m.st1.keras\u001b[39;49m\u001b[38;5;124;43m\"\u001b[39;49m\u001b[43m,\u001b[49m\u001b[43m \u001b[49m\u001b[43mmonitor\u001b[49m\u001b[38;5;241;43m=\u001b[39;49m\u001b[38;5;124;43m'\u001b[39;49m\u001b[38;5;124;43mval_loss\u001b[39;49m\u001b[38;5;124;43m'\u001b[39;49m\u001b[43m,\u001b[49m\u001b[43m \u001b[49m\u001b[43msave_best_only\u001b[49m\u001b[38;5;241;43m=\u001b[39;49m\u001b[38;5;28;43;01mTrue\u001b[39;49;00m\u001b[43m)\u001b[49m\u001b[43m,\u001b[49m\n\u001b[0;32m     17\u001b[0m \u001b[43m                            \u001b[49m\u001b[43mtf\u001b[49m\u001b[38;5;241;43m.\u001b[39;49m\u001b[43mkeras\u001b[49m\u001b[38;5;241;43m.\u001b[39;49m\u001b[43mcallbacks\u001b[49m\u001b[38;5;241;43m.\u001b[39;49m\u001b[43mTensorBoard\u001b[49m\u001b[43m(\u001b[49m\u001b[43mlog_dir\u001b[49m\u001b[38;5;241;43m=\u001b[39;49m\u001b[38;5;124;43m'\u001b[39;49m\u001b[38;5;124;43m.logs\u001b[39;49m\u001b[38;5;124;43m'\u001b[39;49m\u001b[43m)\u001b[49m\u001b[43m,\u001b[49m\n\u001b[0;32m     18\u001b[0m \u001b[43m                            \u001b[49m\u001b[43mtf\u001b[49m\u001b[38;5;241;43m.\u001b[39;49m\u001b[43mkeras\u001b[49m\u001b[38;5;241;43m.\u001b[39;49m\u001b[43mcallbacks\u001b[49m\u001b[38;5;241;43m.\u001b[39;49m\u001b[43mReduceLROnPlateau\u001b[49m\u001b[43m(\u001b[49m\u001b[43mmonitor\u001b[49m\u001b[38;5;241;43m=\u001b[39;49m\u001b[38;5;124;43m'\u001b[39;49m\u001b[38;5;124;43mval_loss\u001b[39;49m\u001b[38;5;124;43m'\u001b[39;49m\u001b[43m,\u001b[49m\u001b[43m \u001b[49m\u001b[43mfactor\u001b[49m\u001b[38;5;241;43m=\u001b[39;49m\u001b[38;5;241;43m0.2\u001b[39;49m\u001b[43m,\u001b[49m\u001b[43m \u001b[49m\u001b[43mpatience\u001b[49m\u001b[38;5;241;43m=\u001b[39;49m\u001b[38;5;241;43m3\u001b[39;49m\u001b[43m,\u001b[49m\u001b[43m \u001b[49m\u001b[43mmin_lr\u001b[49m\u001b[38;5;241;43m=\u001b[39;49m\u001b[38;5;241;43m1e-5\u001b[39;49m\u001b[43m)\u001b[49m\n\u001b[0;32m     19\u001b[0m \u001b[43m                        \u001b[49m\u001b[43m]\u001b[49m\u001b[43m)\u001b[49m\n",
      "File \u001b[1;32md:\\Playground\\bots\\trading\\pocket-option-bot\\.venv\\Lib\\site-packages\\keras\\src\\utils\\traceback_utils.py:70\u001b[0m, in \u001b[0;36mfilter_traceback.<locals>.error_handler\u001b[1;34m(*args, **kwargs)\u001b[0m\n\u001b[0;32m     67\u001b[0m     filtered_tb \u001b[38;5;241m=\u001b[39m _process_traceback_frames(e\u001b[38;5;241m.\u001b[39m__traceback__)\n\u001b[0;32m     68\u001b[0m     \u001b[38;5;66;03m# To get the full stack trace, call:\u001b[39;00m\n\u001b[0;32m     69\u001b[0m     \u001b[38;5;66;03m# `tf.debugging.disable_traceback_filtering()`\u001b[39;00m\n\u001b[1;32m---> 70\u001b[0m     \u001b[38;5;28;01mraise\u001b[39;00m e\u001b[38;5;241m.\u001b[39mwith_traceback(filtered_tb) \u001b[38;5;28;01mfrom\u001b[39;00m \u001b[38;5;28;01mNone\u001b[39;00m\n\u001b[0;32m     71\u001b[0m \u001b[38;5;28;01mfinally\u001b[39;00m:\n\u001b[0;32m     72\u001b[0m     \u001b[38;5;28;01mdel\u001b[39;00m filtered_tb\n",
      "File \u001b[1;32m~\\AppData\\Local\\Temp\\__autograph_generated_fileqkz03uv3.py:15\u001b[0m, in \u001b[0;36mouter_factory.<locals>.inner_factory.<locals>.tf__train_function\u001b[1;34m(iterator)\u001b[0m\n\u001b[0;32m     13\u001b[0m \u001b[38;5;28;01mtry\u001b[39;00m:\n\u001b[0;32m     14\u001b[0m     do_return \u001b[38;5;241m=\u001b[39m \u001b[38;5;28;01mTrue\u001b[39;00m\n\u001b[1;32m---> 15\u001b[0m     retval_ \u001b[38;5;241m=\u001b[39m ag__\u001b[38;5;241m.\u001b[39mconverted_call(ag__\u001b[38;5;241m.\u001b[39mld(step_function), (ag__\u001b[38;5;241m.\u001b[39mld(\u001b[38;5;28mself\u001b[39m), ag__\u001b[38;5;241m.\u001b[39mld(iterator)), \u001b[38;5;28;01mNone\u001b[39;00m, fscope)\n\u001b[0;32m     16\u001b[0m \u001b[38;5;28;01mexcept\u001b[39;00m:\n\u001b[0;32m     17\u001b[0m     do_return \u001b[38;5;241m=\u001b[39m \u001b[38;5;28;01mFalse\u001b[39;00m\n",
      "\u001b[1;31mValueError\u001b[0m: in user code:\n\n    File \"d:\\Playground\\bots\\trading\\pocket-option-bot\\.venv\\Lib\\site-packages\\keras\\src\\engine\\training.py\", line 1401, in train_function  *\n        return step_function(self, iterator)\n    File \"d:\\Playground\\bots\\trading\\pocket-option-bot\\.venv\\Lib\\site-packages\\keras\\src\\engine\\training.py\", line 1384, in step_function  **\n        outputs = model.distribute_strategy.run(run_step, args=(data,))\n    File \"d:\\Playground\\bots\\trading\\pocket-option-bot\\.venv\\Lib\\site-packages\\keras\\src\\engine\\training.py\", line 1373, in run_step  **\n        outputs = model.train_step(data)\n    File \"d:\\Playground\\bots\\trading\\pocket-option-bot\\.venv\\Lib\\site-packages\\keras\\src\\engine\\training.py\", line 1150, in train_step\n        y_pred = self(x, training=True)\n    File \"d:\\Playground\\bots\\trading\\pocket-option-bot\\.venv\\Lib\\site-packages\\keras\\src\\utils\\traceback_utils.py\", line 70, in error_handler\n        raise e.with_traceback(filtered_tb) from None\n    File \"d:\\Playground\\bots\\trading\\pocket-option-bot\\.venv\\Lib\\site-packages\\keras\\src\\engine\\input_spec.py\", line 298, in assert_input_compatibility\n        raise ValueError(\n\n    ValueError: Input 0 of layer \"model_8\" is incompatible with the layer: expected shape=(None, 15, 4), found shape=(2, None, 15, 4)\n"
     ]
    }
   ],
   "source": [
    "# history= model2.fit([X1, decoder_inputs], Y1, steps_per_epoch=steps_per_epoch, epochs=epochs, shuffle=False, verbose=1)\n",
    "# model2.save('path-to-your-model-directory.h5')\n",
    "\n",
    "# Create directories for saving model checkpoints and logs if they don't exist\n",
    "# Example of training with the datasets\n",
    "import os\n",
    "import utils\n",
    "os.makedirs(\"models\", exist_ok=True)\n",
    "os.makedirs('.logs', exist_ok=True)\n",
    "utils.clear_directory('.logs')\n",
    "\n",
    "history = model2.fit(window.train, epochs=10,\n",
    "                        validation_data=window.val,\n",
    "                        callbacks=[\n",
    "                            tf.keras.callbacks.EarlyStopping(monitor='val_loss', patience=2, restore_best_weights=True, mode='min'),\n",
    "                            tf.keras.callbacks.ModelCheckpoint(filepath=f\"models/{ASSET}.st1.keras\", monitor='val_loss', save_best_only=True),\n",
    "                            tf.keras.callbacks.TensorBoard(log_dir='.logs'),\n",
    "                            tf.keras.callbacks.ReduceLROnPlateau(monitor='val_loss', factor=0.2, patience=3, min_lr=1e-5)\n",
    "                        ])\n"
   ]
  },
  {
   "cell_type": "code",
   "execution_count": null,
   "metadata": {
    "scrolled": true
   },
   "outputs": [],
   "source": [
    "X_test"
   ]
  },
  {
   "cell_type": "code",
   "execution_count": null,
   "metadata": {},
   "outputs": [],
   "source": [
    "X_decoder_test=np.zeros((X_test.shape[0], 3,1))\n",
    "X_decoder_test.shape"
   ]
  },
  {
   "cell_type": "code",
   "execution_count": null,
   "metadata": {},
   "outputs": [],
   "source": [
    "y_predicted=model.predict([X_test,X_decoder_test])"
   ]
  },
  {
   "cell_type": "code",
   "execution_count": null,
   "metadata": {},
   "outputs": [],
   "source": [
    "y_predicted.shape"
   ]
  },
  {
   "cell_type": "code",
   "execution_count": null,
   "metadata": {},
   "outputs": [],
   "source": [
    "y_predicted=y_predicted.reshape((29,3))"
   ]
  },
  {
   "cell_type": "code",
   "execution_count": null,
   "metadata": {
    "scrolled": true
   },
   "outputs": [],
   "source": [
    "predd=pd.DataFrame(y_predicted, columns=['day1','day2','day3'])\n",
    "predd"
   ]
  },
  {
   "cell_type": "code",
   "execution_count": null,
   "metadata": {
    "scrolled": true
   },
   "outputs": [],
   "source": [
    "predd=predd.drop([0])\n",
    "predd=predd.reset_index(drop=True)\n",
    "predd"
   ]
  },
  {
   "cell_type": "code",
   "execution_count": null,
   "metadata": {},
   "outputs": [],
   "source": [
    "preds1=predd['day1'].values\n",
    "preds3=predd['day3'].values"
   ]
  },
  {
   "cell_type": "code",
   "execution_count": null,
   "metadata": {},
   "outputs": [],
   "source": [
    "preds2=predd['day2'].values"
   ]
  },
  {
   "cell_type": "code",
   "execution_count": null,
   "metadata": {},
   "outputs": [],
   "source": [
    "plt.plot(preds3, linewidth=0.6, color='g')\n",
    "\n",
    "plt.plot(preds2, linewidth=0.6, color='r')\n",
    "plt.plot(preds1, linewidth=0.6)\n",
    "plt.plot(Y_actuals, linewidth=0.6, color='black')\n",
    "plt.savefig('/home/parth/Pictures/p.i.m.p_2_model3_part4.png', dpi=1200)\n",
    "plt.legend()\n",
    "plt.show()"
   ]
  },
  {
   "cell_type": "code",
   "execution_count": null,
   "metadata": {},
   "outputs": [],
   "source": [
    "#As you can see, I tried to predict the next 3 days of prices using the previous 5 day mid-open-close and volume values.\n",
    "#It has some prediction value, but I didn't end up using it for my purposes. \n",
    "#The whole purpose of this was to try the encoder-decoder cells architecture to try to solve a problem which is very tricky.\n",
    "#I plan to revisit this architecture to predict prices in the future, using different combinations, and perhaps \n",
    "#skipping the fractional differentiation functions. "
   ]
  }
 ],
 "metadata": {
  "kernelspec": {
   "display_name": ".venv",
   "language": "python",
   "name": "python3"
  },
  "language_info": {
   "codemirror_mode": {
    "name": "ipython",
    "version": 3
   },
   "file_extension": ".py",
   "mimetype": "text/x-python",
   "name": "python",
   "nbconvert_exporter": "python",
   "pygments_lexer": "ipython3",
   "version": "3.11.10"
  }
 },
 "nbformat": 4,
 "nbformat_minor": 2
}
